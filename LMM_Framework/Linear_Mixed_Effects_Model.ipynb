{
 "cells": [
  {
   "cell_type": "code",
   "execution_count": 75,
   "id": "3eda52b3-e990-4ee4-83da-6f1235835dae",
   "metadata": {},
   "outputs": [],
   "source": [
    "import pandas as pd\n",
    "import statsmodels.formula.api as smf\n",
    "\n",
    "def build_mixed_model(df, outcomes_dict, predictor_cols, outcome_label, covariate_cols=None):\n",
    "    \"\"\"\n",
    "    Builds a mixed linear model using the provided dataframe, outcomes dictionary, predictors, outcome label, and optional covariates.\n",
    "    \n",
    "    Parameters:\n",
    "    - df: pd.DataFrame - Original dataframe (a copy will be used).\n",
    "    - outcomes_dict: dict[str, int/float] - Dictionary where keys are outcome column names (str),\n",
    "      and values are corresponding timepoints (int/float).\n",
    "    - predictor_cols: list[str] - List of predictor column names.\n",
    "    - outcome_label: str - The label for the outcome variable to be visible in the model summary.\n",
    "    - covariate_cols: list[str], optional - List of potential covariate column names to include as additional fixed effects. Default is None.\n",
    "    \n",
    "    Returns:\n",
    "    - str: Summary of the fitted mixed linear model.\n",
    "    \"\"\"\n",
    "    if covariate_cols is None:\n",
    "        covariate_cols = []\n",
    "    \n",
    "    # Extract outcome_cols and timepoints from dict\n",
    "    outcome_cols = list(outcomes_dict.keys())\n",
    "    timepoints = list(outcomes_dict.values())\n",
    "    \n",
    "    if len(outcome_cols) != len(timepoints):\n",
    "        raise ValueError(\"Outcomes dictionary must have matching keys and values.\")\n",
    "    \n",
    "    # Make a copy of df\n",
    "    ldf = df.copy()\n",
    "    \n",
    "    # Create or use subject_id\n",
    "    ldf['subject_id'] = df.get('unique_id', pd.Series(range(len(df))))\n",
    "    \n",
    "    # Convert to numeric\n",
    "    ldf = ldf.apply(pd.to_numeric, errors='coerce')\n",
    "    \n",
    "    # Reshape to long format\n",
    "    df_long = pd.melt(\n",
    "        ldf,\n",
    "        id_vars=['subject_id'] + predictor_cols + covariate_cols,\n",
    "        value_vars=outcome_cols,\n",
    "        var_name='timepoint_str',  # Temporary name to avoid conflict\n",
    "        value_name=outcome_label  # Use outcome_label here for visibility in summary\n",
    "    )\n",
    "    \n",
    "    # Map timepoints using outcomes_dict\n",
    "    df_long['timepoint'] = df_long['timepoint_str'].map(outcomes_dict)\n",
    "    df_long = df_long.drop(columns=['timepoint_str'])  # Drop temporary column\n",
    "    print(f'Input dataframe shape: {df_long.shape}')\n",
    "    \n",
    "    # Define model columns for dropna\n",
    "    model_cols = [outcome_label, 'timepoint'] + predictor_cols + covariate_cols\n",
    "    \n",
    "    # Drop missing values\n",
    "    df_long = df_long.dropna(subset=model_cols).reset_index(drop=True)\n",
    "    print(f\"Input dataframe shape after dropping missing values: {df_long.shape}\")\n",
    "    \n",
    "    # Ensure subject_id is integer\n",
    "    df_long['subject_id'] = df_long['subject_id'].astype(int)\n",
    "    \n",
    "    # Formula: outcome_label ~ timepoint + predictors + covariates\n",
    "    all_fixed_effects = predictor_cols + covariate_cols\n",
    "    formula = f'{outcome_label} ~ timepoint + ' + ' + '.join(all_fixed_effects)\n",
    "    \n",
    "    # Fit the model\n",
    "    model = smf.mixedlm(formula, df_long, groups=df_long['subject_id'].values)\n",
    "    result = model.fit()\n",
    "    \n",
    "    # Return the summary as string\n",
    "    print(result.summary())  # Use as_text() to return as string\n",
    "    #return result, df_long"
   ]
  },
  {
   "cell_type": "code",
   "execution_count": 77,
   "id": "c7b93856-2f4d-4705-a9cb-a87af46b149f",
   "metadata": {},
   "outputs": [],
   "source": [
    "def percent_non_null(df, columns):\n",
    "    \"\"\"\n",
    "    Returns and prints the percentage of rows with non-null values \n",
    "    across the specified columns, and always shows per-column diagnostics.\n",
    "\n",
    "    Parameters:\n",
    "    df (pd.DataFrame): The DataFrame to check.\n",
    "    columns (list of str): Column names to check.\n",
    "\n",
    "    Returns:\n",
    "    float: Percentage of rows fully non-null across the given columns (rounded).\n",
    "    \"\"\"\n",
    "    assert isinstance(columns, list), \"columns must be a list of strings\"\n",
    "\n",
    "    total_rows = len(df)\n",
    "    non_null_rows = df[columns].dropna().shape[0]\n",
    "    percent = (non_null_rows / total_rows) * 100\n",
    "    rounded_percent = round(percent, 2)\n",
    "\n",
    "    if len(columns) == 1:\n",
    "        print(f\"{rounded_percent:.2f}% rows are non-null for the column\")\n",
    "    else:\n",
    "        print(f\"{rounded_percent:.2f}% rows are fully non-null across all specified columns\")\n",
    "\n",
    "    # Always show per-column completeness\n",
    "    print(\"\\nPer-column non-null percentages:\\n\")\n",
    "    for col in columns:\n",
    "        col_percent = df[col].notna().mean() * 100\n",
    "        print(f\"{col:35}: {col_percent:6.2f}%\")\n",
    "\n",
    "    return rounded_percent"
   ]
  },
  {
   "cell_type": "code",
   "execution_count": 79,
   "id": "7cfdb887-1717-4f26-ba55-62a5b0818671",
   "metadata": {},
   "outputs": [
    {
     "name": "stderr",
     "output_type": "stream",
     "text": [
      "/var/folders/zw/7l6f7k_j48jg8lp15zn3tmr00000gn/T/ipykernel_52549/2974152139.py:9: DtypeWarning: Columns (3,7,9,20,21,22,23,24,26,27,29,34,38,42,46,47,49,50,53,109,128,181,321,327,609,637,638,764,792,793,954,1036,1093,1107,1158,1201,1218,1237,1240,1242,1297,1311,1405,1422,1441,1444,1446,1449,1450,1454,1457,1458,1465,1466,1473,1476,1485,1486,1490,1494,1497,1498,1512) have mixed types. Specify dtype option on import or set low_memory=False.\n",
      "  df = pd.read_csv('ForKathryn_2025Apr07-2_nopsw-1.csv')\n"
     ]
    }
   ],
   "source": [
    "# Import necessary libraries\n",
    "import pandas as pd\n",
    "import seaborn as sns \n",
    "\n",
    "# Load the variable-to-category mapping file\n",
    "categories_mapping = pd.read_excel('categorized_variables_v3.xlsx')\n",
    "\n",
    "# Load the main dataset\n",
    "df = pd.read_csv('ForKathryn_2025Apr07-2_nopsw-1.csv')\n",
    "\n",
    "# Replace common placeholders for missing values with None (NaN)\n",
    "df.replace(['#NULL!', 'NULL', 'null', 'N/A', 'NA', '999', 999, '-999', '-999.00'], None, inplace=True)"
   ]
  },
  {
   "cell_type": "markdown",
   "id": "84794916-976b-4c2c-b909-c6eaaf571ad8",
   "metadata": {},
   "source": [
    "## Testing a Hypothesis\n",
    "  "
   ]
  },
  {
   "cell_type": "code",
   "execution_count": 81,
   "id": "c9050d46-d2bf-4f27-a9a9-f487e30e5b42",
   "metadata": {},
   "outputs": [],
   "source": [
    "predictors = predictor_cols = [\n",
    "    'hx_before_preg___1',              # History of anxiety before pregnancy\n",
    "    'hx_before_preg___4',              # History of depression before pregnancy\n",
    "    'hx_during_preg___1',              # Experience of anxiety during pregnancy\n",
    "    'hx_during_preg___4',              # Experience of depression during pregnancy\n",
    "    'EPDS_T1',                         # Maternal EPDS at first study questionniare\n",
    "    'Panx_t_T1',                       # PROMIS anxiety 7a - Adult v1.0 T-scores at first study questionniare)\n",
    "    'Zdistress_thermometer_combined',  # CZ-scores for Distress Thermometer combining English and French\n",
    "    'SLPimpair_rawT1',                 # PROMIS sleep impairment Short Form 4a T-scores at first study questionniare\n",
    "    'Anger_t_T1',                      # PROMIS Anger 5a T-scores at first study questionniare\n",
    "    'CDrisc_T1'                        # Connor-Davidson Resilience Scale 2 (CD_RISC 2) at first study questionniare\n",
    "]\n",
    "\n",
    "outcomes = {'Total_M3_01' : 3, 'TotalBISQ_M12_01' : 12}\n",
    "covariates = ['Mage','ses','Gestation']\n"
   ]
  },
  {
   "cell_type": "code",
   "execution_count": 87,
   "id": "94918239-67ad-4de9-b127-a8620c4e55da",
   "metadata": {},
   "outputs": [
    {
     "name": "stdout",
     "output_type": "stream",
     "text": [
      "20.55% rows are fully non-null across all specified columns\n",
      "\n",
      "Per-column non-null percentages:\n",
      "\n",
      "hx_before_preg___1                 :  95.45%\n",
      "hx_before_preg___4                 :  95.45%\n",
      "hx_during_preg___1                 :  95.35%\n",
      "hx_during_preg___4                 :  95.35%\n",
      "EPDS_T1                            :  88.57%\n",
      "Panx_t_T1                          :  88.26%\n",
      "Zdistress_thermometer_combined     :  88.64%\n",
      "SLPimpair_rawT1                    :  79.12%\n",
      "Anger_t_T1                         :  60.73%\n",
      "CDrisc_T1                          :  78.51%\n",
      "Total_M3_01                        :  33.07%\n",
      "TotalBISQ_M12_01                   :  36.76%\n",
      "Mage                               :  98.67%\n",
      "ses                                :  98.03%\n",
      "Gestation                          :  99.17%\n"
     ]
    },
    {
     "data": {
      "text/plain": [
       "20.55"
      ]
     },
     "execution_count": 87,
     "metadata": {},
     "output_type": "execute_result"
    }
   ],
   "source": [
    "percent_non_null(df, predictors + list(outcomes.keys()) + covariates)"
   ]
  },
  {
   "cell_type": "code",
   "execution_count": 89,
   "id": "380ebad3-126f-4998-8230-59f1b200e024",
   "metadata": {},
   "outputs": [
    {
     "name": "stdout",
     "output_type": "stream",
     "text": [
      "Input dataframe shape: (21708, 16)\n",
      "Input dataframe shape after dropping missing values: (5704, 16)\n",
      "                  Mixed Linear Model Regression Results\n",
      "=========================================================================\n",
      "Model:                  MixedLM      Dependent Variable:      TotalBISQ  \n",
      "No. Observations:       5704         Method:                  REML       \n",
      "No. Groups:             3474         Scale:                   132.7501   \n",
      "Min. group size:        1            Log-Likelihood:          -22868.3262\n",
      "Max. group size:        2            Converged:               Yes        \n",
      "Mean group size:        1.6                                              \n",
      "-------------------------------------------------------------------------\n",
      "                               Coef.  Std.Err.   z    P>|z| [0.025 0.975]\n",
      "-------------------------------------------------------------------------\n",
      "Intercept                      85.596    3.257 26.279 0.000 79.212 91.980\n",
      "timepoint                       0.453    0.035 12.941 0.000  0.384  0.521\n",
      "hx_before_preg___1             -0.525    0.553 -0.950 0.342 -1.609  0.558\n",
      "hx_before_preg___4             -1.817    0.661 -2.750 0.006 -3.112 -0.522\n",
      "hx_during_preg___1             -0.025    0.588 -0.042 0.966 -1.177  1.127\n",
      "hx_during_preg___4              0.281    0.797  0.353 0.724 -1.280  1.843\n",
      "EPDS_T1                         0.052    0.073  0.713 0.476 -0.091  0.196\n",
      "Panx_t_T1                      -0.082    0.043 -1.899 0.058 -0.166  0.003\n",
      "Zdistress_thermometer_combined -0.683    0.297 -2.300 0.021 -1.265 -0.101\n",
      "SLPimpair_rawT1                -0.206    0.061 -3.391 0.001 -0.325 -0.087\n",
      "Anger_t_T1                      0.030    0.031  0.949 0.343 -0.032  0.091\n",
      "CDrisc_T1                       0.411    0.171  2.405 0.016  0.076  0.746\n",
      "Mage                           -0.311    0.051 -6.061 0.000 -0.411 -0.210\n",
      "ses                             0.810    0.348  2.325 0.020  0.127  1.492\n",
      "Gestation                       0.020    0.023  0.859 0.390 -0.025  0.065\n",
      "Group Var                      49.875    0.430                           \n",
      "=========================================================================\n",
      "\n"
     ]
    }
   ],
   "source": [
    "build_mixed_model(df = df, \n",
    "                  outcomes_dict = outcomes,\n",
    "                  predictor_cols = predictors,\n",
    "                  covariate_cols = covariates,\n",
    "                  outcome_label = 'TotalBISQ')            "
   ]
  },
  {
   "cell_type": "markdown",
   "id": "edc3ed2c-82a8-4ca3-a4af-ad0d21c48cc8",
   "metadata": {},
   "source": [
    "## Plug & Play Hypothesis Block"
   ]
  },
  {
   "cell_type": "code",
   "execution_count": 116,
   "id": "4212af5a-fd8f-49b1-ac89-57a6055a264d",
   "metadata": {},
   "outputs": [],
   "source": [
    "outcomes = {'Total_M3_01' : 3, 'TotalBISQ_M12_01' : 12}\n",
    "predictors = ['hx_before_preg___1', 'hx_before_preg___4', 'hx_during_preg___1', 'hx_during_preg___4']\n",
    "covariates = ['Mage', 'ses']"
   ]
  },
  {
   "cell_type": "code",
   "execution_count": 118,
   "id": "af239028-d59a-4168-97c7-a1eeccc13c3c",
   "metadata": {},
   "outputs": [
    {
     "name": "stdout",
     "output_type": "stream",
     "text": [
      "25.87% rows are fully non-null across all specified columns\n",
      "\n",
      "Per-column non-null percentages:\n",
      "\n",
      "hx_before_preg___1                 :  95.45%\n",
      "hx_before_preg___4                 :  95.45%\n",
      "hx_during_preg___1                 :  95.35%\n",
      "hx_during_preg___4                 :  95.35%\n",
      "Total_M3_01                        :  33.07%\n",
      "TotalBISQ_M12_01                   :  36.76%\n",
      "Mage                               :  98.67%\n",
      "ses                                :  98.03%\n"
     ]
    },
    {
     "data": {
      "text/plain": [
       "25.87"
      ]
     },
     "execution_count": 118,
     "metadata": {},
     "output_type": "execute_result"
    }
   ],
   "source": [
    "percent_non_null(df, predictors + list(outcomes.keys()) + covariates)"
   ]
  },
  {
   "cell_type": "code",
   "execution_count": null,
   "id": "632e5792-8015-448e-b785-efd7bb1e49ff",
   "metadata": {},
   "outputs": [],
   "source": [
    "results, df_long = build_mixed_model(df = df, \n",
    "                  outcomes_dict = outcomes,\n",
    "                  predictor_cols = predictors,\n",
    "                  covariate_cols = covariates,\n",
    "                  outcome_label = 'TotalBISQ')  "
   ]
  },
  {
   "cell_type": "code",
   "execution_count": null,
   "id": "7ae85f42-d95d-4d53-949a-ca62cdb78d25",
   "metadata": {},
   "outputs": [],
   "source": []
  },
  {
   "cell_type": "code",
   "execution_count": null,
   "id": "43e13792-c513-45e5-957e-c1851920692a",
   "metadata": {},
   "outputs": [],
   "source": []
  },
  {
   "cell_type": "code",
   "execution_count": null,
   "id": "50a9e58f-b91e-41cd-a7f2-006e4ec5132b",
   "metadata": {},
   "outputs": [],
   "source": []
  }
 ],
 "metadata": {
  "kernelspec": {
   "display_name": "Python [conda env:base] *",
   "language": "python",
   "name": "conda-base-py"
  },
  "language_info": {
   "codemirror_mode": {
    "name": "ipython",
    "version": 3
   },
   "file_extension": ".py",
   "mimetype": "text/x-python",
   "name": "python",
   "nbconvert_exporter": "python",
   "pygments_lexer": "ipython3",
   "version": "3.12.7"
  }
 },
 "nbformat": 4,
 "nbformat_minor": 5
}
